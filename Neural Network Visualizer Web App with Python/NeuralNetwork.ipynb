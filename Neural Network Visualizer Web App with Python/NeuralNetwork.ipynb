{
 "cells": [
  {
   "cell_type": "code",
   "execution_count": 11,
   "metadata": {},
   "outputs": [],
   "source": [
    "import tensorflow as tf\n",
    "from tensorflow.keras.layers import Input, Dense\n",
    "from tensorflow.keras.models import Model\n",
    "import numpy as np\n",
    "import matplotlib.pyplot as plt\n",
    "\n",
    "%matplotlib inline"
   ]
  },
  {
   "cell_type": "code",
   "execution_count": 2,
   "metadata": {},
   "outputs": [],
   "source": [
    "(x_train, y_train), (x_test, y_test) = tf.keras.datasets.mnist.load_data()"
   ]
  },
  {
   "cell_type": "code",
   "execution_count": 4,
   "metadata": {},
   "outputs": [
    {
     "data": {
      "image/png": "[encoded data removed]",
      "text/plain": [
       "<Figure size 720x720 with 15 Axes>"
      ]
     },
     "metadata": {},
     "output_type": "display_data"
    }
   ],
   "source": [
    "plt.figure(figsize=(10, 10))\n",
    "for i in range(15):\n",
    "    plt.subplot(3, 5, i+1)\n",
    "    plt.imshow(x_train[i], cmap='gray')\n",
    "    plt.xlabel(str(y_train[i]))\n",
    "    plt.xticks([])\n",
    "    plt.yticks([])\n",
    "plt.show()"
   ]
  },
  {
   "cell_type": "code",
   "execution_count": 7,
   "metadata": {},
   "outputs": [
    {
     "name": "stdout",
     "output_type": "stream",
     "text": [
      "60000 10000\n"
     ]
    }
   ],
   "source": [
    "n_train, w, h = x_train.shape\n",
    "n_test, _, _ = x_test.shape\n",
    "print(n_train, n_test)"
   ]
  },
  {
   "cell_type": "code",
   "execution_count": 8,
   "metadata": {},
   "outputs": [
    {
     "name": "stdout",
     "output_type": "stream",
     "text": [
      "x_train.shape: (60000, 784)\n",
      "x_test.shape: (10000, 784)\n"
     ]
    }
   ],
   "source": [
    "x_train = np.reshape(x_train, (n_train, w * h))\n",
    "x_train = x_train / 255.\n",
    "\n",
    "x_test = np.reshape(x_test, (n_test, w * h))\n",
    "x_test = x_test / 255.\n",
    "\n",
    "print('x_train.shape:', x_train.shape)\n",
    "print('x_test.shape:', x_test.shape)"
   ]
  },
  {
   "cell_type": "code",
   "execution_count": 12,
   "metadata": {},
   "outputs": [],
   "source": [
    "\n",
    "i = Input(shape=(w * h,))\n",
    "x = Dense(32, activation='sigmoid')(i)\n",
    "x = Dense(32, activation='sigmoid')(x)\n",
    "x = Dense(10, activation='softmax')(x)\n",
    "\n",
    "model = Model(i, x)"
   ]
  },
  {
   "cell_type": "code",
   "execution_count": 14,
   "metadata": {},
   "outputs": [],
   "source": [
    "model.compile(loss='sparse_categorical_crossentropy',\n",
    "             optimizer='adam',\n",
    "             metrics=['accuracy'])"
   ]
  },
  {
   "cell_type": "code",
   "execution_count": 16,
   "metadata": {},
   "outputs": [
    {
     "name": "stdout",
     "output_type": "stream",
     "text": [
      "Epoch 1/20\n",
      "118/118 - 0s - loss: 0.2062 - accuracy: 0.9441 - val_loss: 0.2079 - val_accuracy: 0.9425\n",
      "Epoch 2/20\n",
      "118/118 - 0s - loss: 0.1933 - accuracy: 0.9477 - val_loss: 0.1971 - val_accuracy: 0.9435\n",
      "Epoch 3/20\n",
      "118/118 - 1s - loss: 0.1826 - accuracy: 0.9498 - val_loss: 0.1884 - val_accuracy: 0.9454\n",
      "Epoch 4/20\n",
      "118/118 - 0s - loss: 0.1727 - accuracy: 0.9528 - val_loss: 0.1825 - val_accuracy: 0.9474\n",
      "Epoch 5/20\n",
      "118/118 - 0s - loss: 0.1643 - accuracy: 0.9543 - val_loss: 0.1765 - val_accuracy: 0.9487\n",
      "Epoch 6/20\n",
      "118/118 - 0s - loss: 0.1566 - accuracy: 0.9564 - val_loss: 0.1698 - val_accuracy: 0.9509\n",
      "Epoch 7/20\n",
      "118/118 - 1s - loss: 0.1499 - accuracy: 0.9577 - val_loss: 0.1646 - val_accuracy: 0.9525\n",
      "Epoch 8/20\n",
      "118/118 - 0s - loss: 0.1436 - accuracy: 0.9603 - val_loss: 0.1601 - val_accuracy: 0.9538\n",
      "Epoch 9/20\n",
      "118/118 - 0s - loss: 0.1378 - accuracy: 0.9615 - val_loss: 0.1551 - val_accuracy: 0.9552\n",
      "Epoch 10/20\n",
      "118/118 - 0s - loss: 0.1323 - accuracy: 0.9632 - val_loss: 0.1515 - val_accuracy: 0.9581\n",
      "Epoch 11/20\n",
      "118/118 - 0s - loss: 0.1276 - accuracy: 0.9642 - val_loss: 0.1488 - val_accuracy: 0.9586\n",
      "Epoch 12/20\n",
      "118/118 - 0s - loss: 0.1228 - accuracy: 0.9658 - val_loss: 0.1453 - val_accuracy: 0.9586\n",
      "Epoch 13/20\n",
      "118/118 - 0s - loss: 0.1187 - accuracy: 0.9668 - val_loss: 0.1427 - val_accuracy: 0.9592\n",
      "Epoch 14/20\n",
      "118/118 - 0s - loss: 0.1147 - accuracy: 0.9678 - val_loss: 0.1401 - val_accuracy: 0.9595\n",
      "Epoch 15/20\n",
      "118/118 - 0s - loss: 0.1113 - accuracy: 0.9689 - val_loss: 0.1380 - val_accuracy: 0.9601\n",
      "Epoch 16/20\n",
      "118/118 - 0s - loss: 0.1074 - accuracy: 0.9700 - val_loss: 0.1350 - val_accuracy: 0.9602\n",
      "Epoch 17/20\n",
      "118/118 - 0s - loss: 0.1040 - accuracy: 0.9713 - val_loss: 0.1331 - val_accuracy: 0.9605\n",
      "Epoch 18/20\n",
      "118/118 - 0s - loss: 0.1011 - accuracy: 0.9720 - val_loss: 0.1316 - val_accuracy: 0.9611\n",
      "Epoch 19/20\n",
      "118/118 - 0s - loss: 0.0980 - accuracy: 0.9728 - val_loss: 0.1299 - val_accuracy: 0.9615\n",
      "Epoch 20/20\n",
      "118/118 - 0s - loss: 0.0952 - accuracy: 0.9736 - val_loss: 0.1282 - val_accuracy: 0.9625\n"
     ]
    }
   ],
   "source": [
    "r = model.fit(x_train, y_train,\n",
    "             validation_data=(x_test, y_test),\n",
    "             epochs = 20,\n",
    "             batch_size=512,\n",
    "             verbose=2)"
   ]
  },
  {
   "cell_type": "code",
   "execution_count": 18,
   "metadata": {},
   "outputs": [],
   "source": [
    "model.save('NNmodel.h5')"
   ]
  },
  {
   "cell_type": "code",
   "execution_count": 21,
   "metadata": {},
   "outputs": [
    {
     "name": "stdout",
     "output_type": "stream",
     "text": [
      "Writing trial.txt\n"
     ]
    }
   ],
   "source": [
    "%%writefile trial.txt\n",
    "\n",
    "\"This will write this text into a file name above\"\n",
    "\"we can write python file for flask and web server from here\""
   ]
  },
  {
   "cell_type": "code",
   "execution_count": 23,
   "metadata": {},
   "outputs": [
    {
     "name": "stdout",
     "output_type": "stream",
     "text": [
      "Overwriting trial.py\n"
     ]
    }
   ],
   "source": [
    "%%writefile trial.py\n",
    "for i in range(5):\n",
    "    print(i)"
   ]
  },
  {
   "cell_type": "code",
   "execution_count": null,
   "metadata": {},
   "outputs": [],
   "source": []
  }
 ],
 "metadata": {
  "kernelspec": {
   "display_name": "Python 3",
   "language": "python",
   "name": "python3"
  },
  "language_info": {
   "codemirror_mode": {
    "name": "ipython",
    "version": 3
   },
   "file_extension": ".py",
   "mimetype": "text/x-python",
   "name": "python",
   "nbconvert_exporter": "python",
   "pygments_lexer": "ipython3",
   "version": "3.8.5"
  }
 },
 "nbformat": 4,
 "nbformat_minor": 2
}
